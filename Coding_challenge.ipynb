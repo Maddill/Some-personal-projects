{
  "nbformat": 4,
  "nbformat_minor": 0,
  "metadata": {
    "colab": {
      "provenance": []
    },
    "kernelspec": {
      "name": "python3",
      "display_name": "Python 3"
    },
    "language_info": {
      "name": "python"
    }
  },
  "cells": [
    {
      "cell_type": "code",
      "execution_count": null,
      "metadata": {
        "id": "ZYrWes-5XQAp"
      },
      "outputs": [],
      "source": [
        "import random\n",
        "from datetime import datetime , timedelta\n",
        "\n",
        "# Define the start and end dates\n",
        "start_date = datetime(2023, 4, 1)\n",
        "end_date = datetime(2023, 4, 30)\n",
        "\n",
        "# Generate random event data\n",
        "event_data = []\n",
        "for _ in range(10000):\n",
        "    # Generate a random datetime between start_date and end_date\n",
        "    random_date = start_date + timedelta(seconds=random.randint(0, int((end_date - start_date).total_seconds())))\n",
        "\n",
        "    # Format the datetime as a string\n",
        "    date_string = random_date.strftime(\"%Y-%m-%d %H:%M:%S.%f\")\n",
        "\n",
        "    # Append the formatted datetime and event hit of 1 to the event_data list\n",
        "    event_data.append((date_string, 1))\n",
        "\n",
        "# Write the event data to the streamed.txt file\n",
        "with open(\"streamed.txt\", \"w\") as file:\n",
        "    for date_string, event_hit in event_data:\n",
        "        file.write(f\"{date_string}\\t{event_hit}\\n\")"
      ]
    },
    {
      "cell_type": "code",
      "source": [
        "# Calculate the sum of daily play-event data\n",
        "daily_data = {}\n",
        "for date_string, event_hit in event_data:\n",
        "    date = datetime.strptime(date_string, \"%Y-%m-%d %H:%M:%S.%f\").date()\n",
        "    daily_data[date] = daily_data.get(date, 0) + event_hit\n",
        "\n",
        "# Write the daily streaming data to the file\n",
        "with open(\"daily_streaming_data.txt\", \"w\") as file:\n",
        "    for date, total in daily_data.items():\n",
        "        line = f\"{date}\\t{total}\\n\"\n",
        "        file.write(line)\n",
        "\n",
        "# Print the sum of daily play-event data\n",
        "for date, total in daily_data.items():\n",
        "    print(f\"{date}: {total}\")"
      ],
      "metadata": {
        "colab": {
          "base_uri": "https://localhost:8080/"
        },
        "id": "RNC-JDDwXfJd",
        "outputId": "82f7f131-eeae-4e45-e415-89850ac448ce"
      },
      "execution_count": null,
      "outputs": [
        {
          "output_type": "stream",
          "name": "stdout",
          "text": [
            "2023-04-09: 356\n",
            "2023-04-20: 364\n",
            "2023-04-01: 345\n",
            "2023-04-02: 364\n",
            "2023-04-07: 369\n",
            "2023-04-29: 349\n",
            "2023-04-16: 362\n",
            "2023-04-05: 327\n",
            "2023-04-15: 351\n",
            "2023-04-22: 353\n",
            "2023-04-26: 343\n",
            "2023-04-28: 304\n",
            "2023-04-11: 388\n",
            "2023-04-24: 310\n",
            "2023-04-14: 347\n",
            "2023-04-06: 311\n",
            "2023-04-13: 328\n",
            "2023-04-27: 334\n",
            "2023-04-03: 348\n",
            "2023-04-04: 336\n",
            "2023-04-23: 344\n",
            "2023-04-18: 362\n",
            "2023-04-17: 351\n",
            "2023-04-25: 327\n",
            "2023-04-12: 310\n",
            "2023-04-21: 349\n",
            "2023-04-08: 381\n",
            "2023-04-10: 316\n",
            "2023-04-19: 371\n"
          ]
        }
      ]
    },
    {
      "cell_type": "code",
      "source": [
        "from datetime import datetime\n",
        "\n",
        "def calculate_event_sum(start_date, end_date):\n",
        "    total = 0\n",
        "\n",
        "    # Parse the start and end dates\n",
        "    start_date = datetime.strptime(start_date, \"%Y-%m-%d\").date()\n",
        "    end_date = datetime.strptime(end_date, \"%Y-%m-%d\").date()\n",
        "\n",
        "    # Read the streamed.txt file and process the data\n",
        "    with open(\"streamed.txt\", \"r\") as file:\n",
        "        for line in file:\n",
        "            date_string, event_hit = line.strip().split(\"\\t\")\n",
        "            event_date = datetime.strptime(date_string, \"%Y-%m-%d %H:%M:%S.%f\").date()\n",
        "\n",
        "            # Check if the event date is within the specified range\n",
        "            if start_date <= event_date <= end_date:\n",
        "                total += int(event_hit)\n",
        "\n",
        "    return total"
      ],
      "metadata": {
        "id": "lLV02CYuX8US"
      },
      "execution_count": null,
      "outputs": []
    },
    {
      "cell_type": "code",
      "source": [
        "start_date = \"2023-04-01\"\n",
        "end_date = \"2023-04-03\"\n",
        "\n",
        "event_sum = calculate_event_sum(start_date, end_date)\n",
        "print(event_sum)"
      ],
      "metadata": {
        "colab": {
          "base_uri": "https://localhost:8080/"
        },
        "id": "mwppWCkbYAzn",
        "outputId": "6742a830-dee7-4a15-e23f-46509e200e5b"
      },
      "execution_count": null,
      "outputs": [
        {
          "output_type": "stream",
          "name": "stdout",
          "text": [
            "1021\n"
          ]
        }
      ]
    }
  ]
}