{
  "nbformat": 4,
  "nbformat_minor": 0,
  "metadata": {
    "colab": {
      "provenance": []
    },
    "kernelspec": {
      "name": "python3",
      "display_name": "Python 3"
    },
    "language_info": {
      "name": "python"
    }
  },
  "cells": [
    {
      "cell_type": "code",
      "execution_count": 1,
      "metadata": {
        "colab": {
          "base_uri": "https://localhost:8080/"
        },
        "id": "edT3M6MfjQ-2",
        "outputId": "f660f1cd-0855-4019-d47b-4bbb6203961e"
      },
      "outputs": [
        {
          "output_type": "stream",
          "name": "stdout",
          "text": [
            "Mounted at /content/drive\n"
          ]
        }
      ],
      "source": [
        "# Menghubungkan Colab dengan Google Drive\n",
        "from google.colab import drive\n",
        "drive.mount('/content/drive')\n"
      ]
    },
    {
      "cell_type": "code",
      "source": [
        "# Memuat file CSV\n",
        "import pandas as pd\n",
        "raw_data = pd.read_csv('/content/drive/MyDrive/AIEngineerGAIA.csv')\n",
        "\n",
        "# Menampilkan data\n",
        "raw_data.head()"
      ],
      "metadata": {
        "colab": {
          "base_uri": "https://localhost:8080/",
          "height": 206
        },
        "id": "YVKn6n5vj1Qe",
        "outputId": "b804a775-7c87-4366-ff4e-87015cc6f209"
      },
      "execution_count": 2,
      "outputs": [
        {
          "output_type": "execute_result",
          "data": {
            "text/plain": [
              "   id  squareMeters  numberOfRooms  hasYard  hasPool  floors  cityCode  \\\n",
              "0   0         34291             24        1        0      47     35693   \n",
              "1   1         95145             60        0        1      60     34773   \n",
              "2   2         92661             45        1        1      62     45457   \n",
              "3   3         97184             99        0        0      59     15113   \n",
              "4   4         61752            100        0        0      57     64245   \n",
              "\n",
              "   cityPartRange  numPrevOwners  made  isNewBuilt  hasStormProtector  \\\n",
              "0              2              1  2000           0                  1   \n",
              "1              1              4  2000           0                  1   \n",
              "2              4              8  2020           1                  1   \n",
              "3              1              1  2000           0                  1   \n",
              "4              8              4  2018           1                  0   \n",
              "\n",
              "   basement  attic  garage  hasStorageRoom  hasGuestRoom      price  \n",
              "0         8   5196     369               0             3  3436795.2  \n",
              "1       729   4496     277               0             6  9519958.0  \n",
              "2      7473   8953     245               1             9  9276448.1  \n",
              "3      6424   8522     256               1             9  9725732.2  \n",
              "4      7151   2786     863               0             7  6181908.8  "
            ],
            "text/html": [
              "\n",
              "  <div id=\"df-57266dda-986f-467b-9b47-ac4d81f555b0\">\n",
              "    <div class=\"colab-df-container\">\n",
              "      <div>\n",
              "<style scoped>\n",
              "    .dataframe tbody tr th:only-of-type {\n",
              "        vertical-align: middle;\n",
              "    }\n",
              "\n",
              "    .dataframe tbody tr th {\n",
              "        vertical-align: top;\n",
              "    }\n",
              "\n",
              "    .dataframe thead th {\n",
              "        text-align: right;\n",
              "    }\n",
              "</style>\n",
              "<table border=\"1\" class=\"dataframe\">\n",
              "  <thead>\n",
              "    <tr style=\"text-align: right;\">\n",
              "      <th></th>\n",
              "      <th>id</th>\n",
              "      <th>squareMeters</th>\n",
              "      <th>numberOfRooms</th>\n",
              "      <th>hasYard</th>\n",
              "      <th>hasPool</th>\n",
              "      <th>floors</th>\n",
              "      <th>cityCode</th>\n",
              "      <th>cityPartRange</th>\n",
              "      <th>numPrevOwners</th>\n",
              "      <th>made</th>\n",
              "      <th>isNewBuilt</th>\n",
              "      <th>hasStormProtector</th>\n",
              "      <th>basement</th>\n",
              "      <th>attic</th>\n",
              "      <th>garage</th>\n",
              "      <th>hasStorageRoom</th>\n",
              "      <th>hasGuestRoom</th>\n",
              "      <th>price</th>\n",
              "    </tr>\n",
              "  </thead>\n",
              "  <tbody>\n",
              "    <tr>\n",
              "      <th>0</th>\n",
              "      <td>0</td>\n",
              "      <td>34291</td>\n",
              "      <td>24</td>\n",
              "      <td>1</td>\n",
              "      <td>0</td>\n",
              "      <td>47</td>\n",
              "      <td>35693</td>\n",
              "      <td>2</td>\n",
              "      <td>1</td>\n",
              "      <td>2000</td>\n",
              "      <td>0</td>\n",
              "      <td>1</td>\n",
              "      <td>8</td>\n",
              "      <td>5196</td>\n",
              "      <td>369</td>\n",
              "      <td>0</td>\n",
              "      <td>3</td>\n",
              "      <td>3436795.2</td>\n",
              "    </tr>\n",
              "    <tr>\n",
              "      <th>1</th>\n",
              "      <td>1</td>\n",
              "      <td>95145</td>\n",
              "      <td>60</td>\n",
              "      <td>0</td>\n",
              "      <td>1</td>\n",
              "      <td>60</td>\n",
              "      <td>34773</td>\n",
              "      <td>1</td>\n",
              "      <td>4</td>\n",
              "      <td>2000</td>\n",
              "      <td>0</td>\n",
              "      <td>1</td>\n",
              "      <td>729</td>\n",
              "      <td>4496</td>\n",
              "      <td>277</td>\n",
              "      <td>0</td>\n",
              "      <td>6</td>\n",
              "      <td>9519958.0</td>\n",
              "    </tr>\n",
              "    <tr>\n",
              "      <th>2</th>\n",
              "      <td>2</td>\n",
              "      <td>92661</td>\n",
              "      <td>45</td>\n",
              "      <td>1</td>\n",
              "      <td>1</td>\n",
              "      <td>62</td>\n",
              "      <td>45457</td>\n",
              "      <td>4</td>\n",
              "      <td>8</td>\n",
              "      <td>2020</td>\n",
              "      <td>1</td>\n",
              "      <td>1</td>\n",
              "      <td>7473</td>\n",
              "      <td>8953</td>\n",
              "      <td>245</td>\n",
              "      <td>1</td>\n",
              "      <td>9</td>\n",
              "      <td>9276448.1</td>\n",
              "    </tr>\n",
              "    <tr>\n",
              "      <th>3</th>\n",
              "      <td>3</td>\n",
              "      <td>97184</td>\n",
              "      <td>99</td>\n",
              "      <td>0</td>\n",
              "      <td>0</td>\n",
              "      <td>59</td>\n",
              "      <td>15113</td>\n",
              "      <td>1</td>\n",
              "      <td>1</td>\n",
              "      <td>2000</td>\n",
              "      <td>0</td>\n",
              "      <td>1</td>\n",
              "      <td>6424</td>\n",
              "      <td>8522</td>\n",
              "      <td>256</td>\n",
              "      <td>1</td>\n",
              "      <td>9</td>\n",
              "      <td>9725732.2</td>\n",
              "    </tr>\n",
              "    <tr>\n",
              "      <th>4</th>\n",
              "      <td>4</td>\n",
              "      <td>61752</td>\n",
              "      <td>100</td>\n",
              "      <td>0</td>\n",
              "      <td>0</td>\n",
              "      <td>57</td>\n",
              "      <td>64245</td>\n",
              "      <td>8</td>\n",
              "      <td>4</td>\n",
              "      <td>2018</td>\n",
              "      <td>1</td>\n",
              "      <td>0</td>\n",
              "      <td>7151</td>\n",
              "      <td>2786</td>\n",
              "      <td>863</td>\n",
              "      <td>0</td>\n",
              "      <td>7</td>\n",
              "      <td>6181908.8</td>\n",
              "    </tr>\n",
              "  </tbody>\n",
              "</table>\n",
              "</div>\n",
              "      <button class=\"colab-df-convert\" onclick=\"convertToInteractive('df-57266dda-986f-467b-9b47-ac4d81f555b0')\"\n",
              "              title=\"Convert this dataframe to an interactive table.\"\n",
              "              style=\"display:none;\">\n",
              "        \n",
              "  <svg xmlns=\"http://www.w3.org/2000/svg\" height=\"24px\"viewBox=\"0 0 24 24\"\n",
              "       width=\"24px\">\n",
              "    <path d=\"M0 0h24v24H0V0z\" fill=\"none\"/>\n",
              "    <path d=\"M18.56 5.44l.94 2.06.94-2.06 2.06-.94-2.06-.94-.94-2.06-.94 2.06-2.06.94zm-11 1L8.5 8.5l.94-2.06 2.06-.94-2.06-.94L8.5 2.5l-.94 2.06-2.06.94zm10 10l.94 2.06.94-2.06 2.06-.94-2.06-.94-.94-2.06-.94 2.06-2.06.94z\"/><path d=\"M17.41 7.96l-1.37-1.37c-.4-.4-.92-.59-1.43-.59-.52 0-1.04.2-1.43.59L10.3 9.45l-7.72 7.72c-.78.78-.78 2.05 0 2.83L4 21.41c.39.39.9.59 1.41.59.51 0 1.02-.2 1.41-.59l7.78-7.78 2.81-2.81c.8-.78.8-2.07 0-2.86zM5.41 20L4 18.59l7.72-7.72 1.47 1.35L5.41 20z\"/>\n",
              "  </svg>\n",
              "      </button>\n",
              "      \n",
              "  <style>\n",
              "    .colab-df-container {\n",
              "      display:flex;\n",
              "      flex-wrap:wrap;\n",
              "      gap: 12px;\n",
              "    }\n",
              "\n",
              "    .colab-df-convert {\n",
              "      background-color: #E8F0FE;\n",
              "      border: none;\n",
              "      border-radius: 50%;\n",
              "      cursor: pointer;\n",
              "      display: none;\n",
              "      fill: #1967D2;\n",
              "      height: 32px;\n",
              "      padding: 0 0 0 0;\n",
              "      width: 32px;\n",
              "    }\n",
              "\n",
              "    .colab-df-convert:hover {\n",
              "      background-color: #E2EBFA;\n",
              "      box-shadow: 0px 1px 2px rgba(60, 64, 67, 0.3), 0px 1px 3px 1px rgba(60, 64, 67, 0.15);\n",
              "      fill: #174EA6;\n",
              "    }\n",
              "\n",
              "    [theme=dark] .colab-df-convert {\n",
              "      background-color: #3B4455;\n",
              "      fill: #D2E3FC;\n",
              "    }\n",
              "\n",
              "    [theme=dark] .colab-df-convert:hover {\n",
              "      background-color: #434B5C;\n",
              "      box-shadow: 0px 1px 3px 1px rgba(0, 0, 0, 0.15);\n",
              "      filter: drop-shadow(0px 1px 2px rgba(0, 0, 0, 0.3));\n",
              "      fill: #FFFFFF;\n",
              "    }\n",
              "  </style>\n",
              "\n",
              "      <script>\n",
              "        const buttonEl =\n",
              "          document.querySelector('#df-57266dda-986f-467b-9b47-ac4d81f555b0 button.colab-df-convert');\n",
              "        buttonEl.style.display =\n",
              "          google.colab.kernel.accessAllowed ? 'block' : 'none';\n",
              "\n",
              "        async function convertToInteractive(key) {\n",
              "          const element = document.querySelector('#df-57266dda-986f-467b-9b47-ac4d81f555b0');\n",
              "          const dataTable =\n",
              "            await google.colab.kernel.invokeFunction('convertToInteractive',\n",
              "                                                     [key], {});\n",
              "          if (!dataTable) return;\n",
              "\n",
              "          const docLinkHtml = 'Like what you see? Visit the ' +\n",
              "            '<a target=\"_blank\" href=https://colab.research.google.com/notebooks/data_table.ipynb>data table notebook</a>'\n",
              "            + ' to learn more about interactive tables.';\n",
              "          element.innerHTML = '';\n",
              "          dataTable['output_type'] = 'display_data';\n",
              "          await google.colab.output.renderOutput(dataTable, element);\n",
              "          const docLink = document.createElement('div');\n",
              "          docLink.innerHTML = docLinkHtml;\n",
              "          element.appendChild(docLink);\n",
              "        }\n",
              "      </script>\n",
              "    </div>\n",
              "  </div>\n",
              "  "
            ]
          },
          "metadata": {},
          "execution_count": 2
        }
      ]
    },
    {
      "cell_type": "code",
      "source": [
        "raw_data.shape"
      ],
      "metadata": {
        "colab": {
          "base_uri": "https://localhost:8080/"
        },
        "id": "CHi-d2fnn7Bp",
        "outputId": "ba6545c3-359b-47af-8a7c-819a573daa23"
      },
      "execution_count": 3,
      "outputs": [
        {
          "output_type": "execute_result",
          "data": {
            "text/plain": [
              "(22730, 18)"
            ]
          },
          "metadata": {},
          "execution_count": 3
        }
      ]
    },
    {
      "cell_type": "code",
      "source": [
        "df = raw_data.drop(['id', 'price'], axis=1)"
      ],
      "metadata": {
        "id": "deN0l_BnoDIX"
      },
      "execution_count": 4,
      "outputs": []
    },
    {
      "cell_type": "code",
      "source": [
        "df.head()"
      ],
      "metadata": {
        "colab": {
          "base_uri": "https://localhost:8080/",
          "height": 206
        },
        "id": "UW_cPNetsRCW",
        "outputId": "4283b1b5-7b8c-45b2-aa92-be2ece5961a5"
      },
      "execution_count": 5,
      "outputs": [
        {
          "output_type": "execute_result",
          "data": {
            "text/plain": [
              "   squareMeters  numberOfRooms  hasYard  hasPool  floors  cityCode  \\\n",
              "0         34291             24        1        0      47     35693   \n",
              "1         95145             60        0        1      60     34773   \n",
              "2         92661             45        1        1      62     45457   \n",
              "3         97184             99        0        0      59     15113   \n",
              "4         61752            100        0        0      57     64245   \n",
              "\n",
              "   cityPartRange  numPrevOwners  made  isNewBuilt  hasStormProtector  \\\n",
              "0              2              1  2000           0                  1   \n",
              "1              1              4  2000           0                  1   \n",
              "2              4              8  2020           1                  1   \n",
              "3              1              1  2000           0                  1   \n",
              "4              8              4  2018           1                  0   \n",
              "\n",
              "   basement  attic  garage  hasStorageRoom  hasGuestRoom  \n",
              "0         8   5196     369               0             3  \n",
              "1       729   4496     277               0             6  \n",
              "2      7473   8953     245               1             9  \n",
              "3      6424   8522     256               1             9  \n",
              "4      7151   2786     863               0             7  "
            ],
            "text/html": [
              "\n",
              "  <div id=\"df-b878f082-277d-4a18-93ab-af8eac275381\">\n",
              "    <div class=\"colab-df-container\">\n",
              "      <div>\n",
              "<style scoped>\n",
              "    .dataframe tbody tr th:only-of-type {\n",
              "        vertical-align: middle;\n",
              "    }\n",
              "\n",
              "    .dataframe tbody tr th {\n",
              "        vertical-align: top;\n",
              "    }\n",
              "\n",
              "    .dataframe thead th {\n",
              "        text-align: right;\n",
              "    }\n",
              "</style>\n",
              "<table border=\"1\" class=\"dataframe\">\n",
              "  <thead>\n",
              "    <tr style=\"text-align: right;\">\n",
              "      <th></th>\n",
              "      <th>squareMeters</th>\n",
              "      <th>numberOfRooms</th>\n",
              "      <th>hasYard</th>\n",
              "      <th>hasPool</th>\n",
              "      <th>floors</th>\n",
              "      <th>cityCode</th>\n",
              "      <th>cityPartRange</th>\n",
              "      <th>numPrevOwners</th>\n",
              "      <th>made</th>\n",
              "      <th>isNewBuilt</th>\n",
              "      <th>hasStormProtector</th>\n",
              "      <th>basement</th>\n",
              "      <th>attic</th>\n",
              "      <th>garage</th>\n",
              "      <th>hasStorageRoom</th>\n",
              "      <th>hasGuestRoom</th>\n",
              "    </tr>\n",
              "  </thead>\n",
              "  <tbody>\n",
              "    <tr>\n",
              "      <th>0</th>\n",
              "      <td>34291</td>\n",
              "      <td>24</td>\n",
              "      <td>1</td>\n",
              "      <td>0</td>\n",
              "      <td>47</td>\n",
              "      <td>35693</td>\n",
              "      <td>2</td>\n",
              "      <td>1</td>\n",
              "      <td>2000</td>\n",
              "      <td>0</td>\n",
              "      <td>1</td>\n",
              "      <td>8</td>\n",
              "      <td>5196</td>\n",
              "      <td>369</td>\n",
              "      <td>0</td>\n",
              "      <td>3</td>\n",
              "    </tr>\n",
              "    <tr>\n",
              "      <th>1</th>\n",
              "      <td>95145</td>\n",
              "      <td>60</td>\n",
              "      <td>0</td>\n",
              "      <td>1</td>\n",
              "      <td>60</td>\n",
              "      <td>34773</td>\n",
              "      <td>1</td>\n",
              "      <td>4</td>\n",
              "      <td>2000</td>\n",
              "      <td>0</td>\n",
              "      <td>1</td>\n",
              "      <td>729</td>\n",
              "      <td>4496</td>\n",
              "      <td>277</td>\n",
              "      <td>0</td>\n",
              "      <td>6</td>\n",
              "    </tr>\n",
              "    <tr>\n",
              "      <th>2</th>\n",
              "      <td>92661</td>\n",
              "      <td>45</td>\n",
              "      <td>1</td>\n",
              "      <td>1</td>\n",
              "      <td>62</td>\n",
              "      <td>45457</td>\n",
              "      <td>4</td>\n",
              "      <td>8</td>\n",
              "      <td>2020</td>\n",
              "      <td>1</td>\n",
              "      <td>1</td>\n",
              "      <td>7473</td>\n",
              "      <td>8953</td>\n",
              "      <td>245</td>\n",
              "      <td>1</td>\n",
              "      <td>9</td>\n",
              "    </tr>\n",
              "    <tr>\n",
              "      <th>3</th>\n",
              "      <td>97184</td>\n",
              "      <td>99</td>\n",
              "      <td>0</td>\n",
              "      <td>0</td>\n",
              "      <td>59</td>\n",
              "      <td>15113</td>\n",
              "      <td>1</td>\n",
              "      <td>1</td>\n",
              "      <td>2000</td>\n",
              "      <td>0</td>\n",
              "      <td>1</td>\n",
              "      <td>6424</td>\n",
              "      <td>8522</td>\n",
              "      <td>256</td>\n",
              "      <td>1</td>\n",
              "      <td>9</td>\n",
              "    </tr>\n",
              "    <tr>\n",
              "      <th>4</th>\n",
              "      <td>61752</td>\n",
              "      <td>100</td>\n",
              "      <td>0</td>\n",
              "      <td>0</td>\n",
              "      <td>57</td>\n",
              "      <td>64245</td>\n",
              "      <td>8</td>\n",
              "      <td>4</td>\n",
              "      <td>2018</td>\n",
              "      <td>1</td>\n",
              "      <td>0</td>\n",
              "      <td>7151</td>\n",
              "      <td>2786</td>\n",
              "      <td>863</td>\n",
              "      <td>0</td>\n",
              "      <td>7</td>\n",
              "    </tr>\n",
              "  </tbody>\n",
              "</table>\n",
              "</div>\n",
              "      <button class=\"colab-df-convert\" onclick=\"convertToInteractive('df-b878f082-277d-4a18-93ab-af8eac275381')\"\n",
              "              title=\"Convert this dataframe to an interactive table.\"\n",
              "              style=\"display:none;\">\n",
              "        \n",
              "  <svg xmlns=\"http://www.w3.org/2000/svg\" height=\"24px\"viewBox=\"0 0 24 24\"\n",
              "       width=\"24px\">\n",
              "    <path d=\"M0 0h24v24H0V0z\" fill=\"none\"/>\n",
              "    <path d=\"M18.56 5.44l.94 2.06.94-2.06 2.06-.94-2.06-.94-.94-2.06-.94 2.06-2.06.94zm-11 1L8.5 8.5l.94-2.06 2.06-.94-2.06-.94L8.5 2.5l-.94 2.06-2.06.94zm10 10l.94 2.06.94-2.06 2.06-.94-2.06-.94-.94-2.06-.94 2.06-2.06.94z\"/><path d=\"M17.41 7.96l-1.37-1.37c-.4-.4-.92-.59-1.43-.59-.52 0-1.04.2-1.43.59L10.3 9.45l-7.72 7.72c-.78.78-.78 2.05 0 2.83L4 21.41c.39.39.9.59 1.41.59.51 0 1.02-.2 1.41-.59l7.78-7.78 2.81-2.81c.8-.78.8-2.07 0-2.86zM5.41 20L4 18.59l7.72-7.72 1.47 1.35L5.41 20z\"/>\n",
              "  </svg>\n",
              "      </button>\n",
              "      \n",
              "  <style>\n",
              "    .colab-df-container {\n",
              "      display:flex;\n",
              "      flex-wrap:wrap;\n",
              "      gap: 12px;\n",
              "    }\n",
              "\n",
              "    .colab-df-convert {\n",
              "      background-color: #E8F0FE;\n",
              "      border: none;\n",
              "      border-radius: 50%;\n",
              "      cursor: pointer;\n",
              "      display: none;\n",
              "      fill: #1967D2;\n",
              "      height: 32px;\n",
              "      padding: 0 0 0 0;\n",
              "      width: 32px;\n",
              "    }\n",
              "\n",
              "    .colab-df-convert:hover {\n",
              "      background-color: #E2EBFA;\n",
              "      box-shadow: 0px 1px 2px rgba(60, 64, 67, 0.3), 0px 1px 3px 1px rgba(60, 64, 67, 0.15);\n",
              "      fill: #174EA6;\n",
              "    }\n",
              "\n",
              "    [theme=dark] .colab-df-convert {\n",
              "      background-color: #3B4455;\n",
              "      fill: #D2E3FC;\n",
              "    }\n",
              "\n",
              "    [theme=dark] .colab-df-convert:hover {\n",
              "      background-color: #434B5C;\n",
              "      box-shadow: 0px 1px 3px 1px rgba(0, 0, 0, 0.15);\n",
              "      filter: drop-shadow(0px 1px 2px rgba(0, 0, 0, 0.3));\n",
              "      fill: #FFFFFF;\n",
              "    }\n",
              "  </style>\n",
              "\n",
              "      <script>\n",
              "        const buttonEl =\n",
              "          document.querySelector('#df-b878f082-277d-4a18-93ab-af8eac275381 button.colab-df-convert');\n",
              "        buttonEl.style.display =\n",
              "          google.colab.kernel.accessAllowed ? 'block' : 'none';\n",
              "\n",
              "        async function convertToInteractive(key) {\n",
              "          const element = document.querySelector('#df-b878f082-277d-4a18-93ab-af8eac275381');\n",
              "          const dataTable =\n",
              "            await google.colab.kernel.invokeFunction('convertToInteractive',\n",
              "                                                     [key], {});\n",
              "          if (!dataTable) return;\n",
              "\n",
              "          const docLinkHtml = 'Like what you see? Visit the ' +\n",
              "            '<a target=\"_blank\" href=https://colab.research.google.com/notebooks/data_table.ipynb>data table notebook</a>'\n",
              "            + ' to learn more about interactive tables.';\n",
              "          element.innerHTML = '';\n",
              "          dataTable['output_type'] = 'display_data';\n",
              "          await google.colab.output.renderOutput(dataTable, element);\n",
              "          const docLink = document.createElement('div');\n",
              "          docLink.innerHTML = docLinkHtml;\n",
              "          element.appendChild(docLink);\n",
              "        }\n",
              "      </script>\n",
              "    </div>\n",
              "  </div>\n",
              "  "
            ]
          },
          "metadata": {},
          "execution_count": 5
        }
      ]
    },
    {
      "cell_type": "markdown",
      "source": [
        "**Eksplorasi Dan Analisis Data**\n"
      ],
      "metadata": {
        "id": "2Sss77pnltzX"
      }
    },
    {
      "cell_type": "code",
      "source": [
        "import pandas as pd\n",
        "# Mengecek missing value\n",
        "raw_data.isnull().sum()\n"
      ],
      "metadata": {
        "colab": {
          "base_uri": "https://localhost:8080/"
        },
        "id": "04lgCAWZl8Dq",
        "outputId": "6a8c242a-2e41-4d38-e03c-b1cfac4f84a9"
      },
      "execution_count": 6,
      "outputs": [
        {
          "output_type": "execute_result",
          "data": {
            "text/plain": [
              "id                   0\n",
              "squareMeters         0\n",
              "numberOfRooms        0\n",
              "hasYard              0\n",
              "hasPool              0\n",
              "floors               0\n",
              "cityCode             0\n",
              "cityPartRange        0\n",
              "numPrevOwners        0\n",
              "made                 0\n",
              "isNewBuilt           0\n",
              "hasStormProtector    0\n",
              "basement             0\n",
              "attic                0\n",
              "garage               0\n",
              "hasStorageRoom       0\n",
              "hasGuestRoom         0\n",
              "price                0\n",
              "dtype: int64"
            ]
          },
          "metadata": {},
          "execution_count": 6
        }
      ]
    },
    {
      "cell_type": "code",
      "source": [
        "# Mengecek duplikasi\n",
        "raw_data.duplicated().sum()"
      ],
      "metadata": {
        "colab": {
          "base_uri": "https://localhost:8080/"
        },
        "id": "o5dbB-qqmlTZ",
        "outputId": "a600ad75-06f5-453f-bed0-c33afc6b1013"
      },
      "execution_count": 7,
      "outputs": [
        {
          "output_type": "execute_result",
          "data": {
            "text/plain": [
              "0"
            ]
          },
          "metadata": {},
          "execution_count": 7
        }
      ]
    },
    {
      "cell_type": "code",
      "source": [
        "import matplotlib.pyplot as plt\n",
        "\n",
        "# Mengecek outliers menggunakan boxplot\n",
        "fig, ax = plt.subplots(figsize=(25,6))\n",
        "raw_data.boxplot(ax=ax)\n",
        "plt.show()"
      ],
      "metadata": {
        "colab": {
          "base_uri": "https://localhost:8080/",
          "height": 479
        },
        "id": "1xU_mRZZnHXR",
        "outputId": "85e291d3-6c22-432f-823a-1d5284e615e6"
      },
      "execution_count": 8,
      "outputs": [
        {
          "output_type": "display_data",
          "data": {
            "text/plain": [
              "<Figure size 2500x600 with 1 Axes>"
            ],
            "image/png": "[encoded data removed]"
          },
          "metadata": {}
        }
      ]
    },
    {
      "cell_type": "code",
      "source": [
        "fig, ax = plt.subplots(figsize=(25,6))\n",
        "df.boxplot(ax=ax)\n",
        "plt.show()"
      ],
      "metadata": {
        "colab": {
          "base_uri": "https://localhost:8080/",
          "height": 482
        },
        "id": "zHx4RP2Ur6o_",
        "outputId": "60b6480b-2d65-4642-928c-8283a2fd4565"
      },
      "execution_count": 9,
      "outputs": [
        {
          "output_type": "display_data",
          "data": {
            "text/plain": [
              "<Figure size 2500x600 with 1 Axes>"
            ],
            "image/png": "[encoded data removed]"
          },
          "metadata": {}
        }
      ]
    },
    {
      "cell_type": "code",
      "source": [
        "import seaborn as sns\n",
        "\n",
        "# Pilih kolom luas bangunan\n",
        "kolom = 'squareMeters'\n",
        "\n",
        "# Buat boxplot\n",
        "sns.boxplot(x=df[kolom])\n",
        "\n",
        "# Hitung batas bawah dan atas data outliers\n",
        "q1 = df[kolom].quantile(0.25)\n",
        "q3 = df[kolom].quantile(0.75)\n",
        "iqr = q3 - q1\n",
        "batas_bawah = q1 - 1.5 * iqr\n",
        "batas_atas = q3 + 1.5 * iqr\n",
        "\n",
        "# Cari indeks baris yang mengandung data outliers\n",
        "outlier_idx = df[(df[kolom] < batas_bawah) | (df[kolom] > batas_atas)].index\n",
        "\n",
        "# Tampilkan indeks baris yang mengandung data outliers\n",
        "print(\"Data outliers pada kolom\", kolom, \"ada pada baris ke:\")\n",
        "print(outlier_idx)\n",
        "\n",
        "# Tampilkan grafik\n",
        "plt.show()"
      ],
      "metadata": {
        "colab": {
          "base_uri": "https://localhost:8080/",
          "height": 484
        },
        "id": "_8Lk3iQptAPg",
        "outputId": "b0ac3d7b-8baa-4d23-d4fe-633c06565437"
      },
      "execution_count": null,
      "outputs": [
        {
          "output_type": "stream",
          "name": "stdout",
          "text": [
            "Data outliers pada kolom squareMeters ada pada baris ke:\n",
            "Int64Index([15334], dtype='int64')\n"
          ]
        },
        {
          "output_type": "display_data",
          "data": {
            "text/plain": [
              "<Figure size 640x480 with 1 Axes>"
            ],
            "image/png": "[encoded data removed]"
          },
          "metadata": {}
        }
      ]
    },
    {
      "cell_type": "code",
      "source": [
        "nilai_kolom = df.loc[15334, 'squareMeters']\n",
        "print(nilai_kolom)"
      ],
      "metadata": {
        "colab": {
          "base_uri": "https://localhost:8080/",
          "height": 186
        },
        "id": "vTQn6RKTzzLV",
        "outputId": "f34892e9-b953-4acf-daf2-78d0e9bc3677"
      },
      "execution_count": null,
      "outputs": [
        {
          "output_type": "error",
          "ename": "NameError",
          "evalue": "ignored",
          "traceback": [
            "\u001b[0;31m---------------------------------------------------------------------------\u001b[0m",
            "\u001b[0;31mNameError\u001b[0m                                 Traceback (most recent call last)",
            "\u001b[0;32m<ipython-input-1-a0c170c4871f>\u001b[0m in \u001b[0;36m<cell line: 1>\u001b[0;34m()\u001b[0m\n\u001b[0;32m----> 1\u001b[0;31m \u001b[0mnilai_kolom\u001b[0m \u001b[0;34m=\u001b[0m \u001b[0mdf\u001b[0m\u001b[0;34m.\u001b[0m\u001b[0mloc\u001b[0m\u001b[0;34m[\u001b[0m\u001b[0;36m15334\u001b[0m\u001b[0;34m,\u001b[0m \u001b[0;34m'squareMeters'\u001b[0m\u001b[0;34m]\u001b[0m\u001b[0;34m\u001b[0m\u001b[0;34m\u001b[0m\u001b[0m\n\u001b[0m\u001b[1;32m      2\u001b[0m \u001b[0mprint\u001b[0m\u001b[0;34m(\u001b[0m\u001b[0mnilai_kolom\u001b[0m\u001b[0;34m)\u001b[0m\u001b[0;34m\u001b[0m\u001b[0;34m\u001b[0m\u001b[0m\n",
            "\u001b[0;31mNameError\u001b[0m: name 'df' is not defined"
          ]
        }
      ]
    },
    {
      "cell_type": "markdown",
      "source": [
        "Dari hasil pengamatan data outliers pada kolom square Meters, didapatkan bahwa nilai outlier terlalu jauh dari nilai yang ada. Penulis memutuskan untuk menghapus nilai tersebut karena diasumsikan bahwa data tersebut merupakan kesalahan input yang mana penulis tidak menemukan metode transformasi maupun pendekatan statistik untuk menangani data ini"
      ],
      "metadata": {
        "id": "YXASluRDO7gl"
      }
    },
    {
      "cell_type": "code",
      "source": [
        "import seaborn as sns\n",
        "\n",
        "# Pilih kolom luas bangunan\n",
        "kolom = 'floors'\n",
        "\n",
        "# Buat boxplot\n",
        "sns.boxplot(x=df[kolom])\n",
        "\n",
        "# Hitung batas bawah dan atas data outliers\n",
        "q1 = df[kolom].quantile(0.25)\n",
        "q3 = df[kolom].quantile(0.75)\n",
        "iqr = q3 - q1\n",
        "batas_bawah = q1 - 1.5 * iqr\n",
        "batas_atas = q3 + 1.5 * iqr\n",
        "\n",
        "# Cari indeks baris yang mengandung data outliers\n",
        "outlier_idx = df[(df[kolom] < batas_bawah) | (df[kolom] > batas_atas)].index\n",
        "\n",
        "# Tampilkan indeks baris yang mengandung data outliers\n",
        "print(\"Data outliers pada kolom floors\", kolom, \"ada pada baris ke:\")\n",
        "print(outlier_idx)\n",
        "\n",
        "# Tampilkan grafik\n",
        "plt.show()"
      ],
      "metadata": {
        "colab": {
          "base_uri": "https://localhost:8080/",
          "height": 484
        },
        "id": "mf_zs0QJ1sLj",
        "outputId": "14cd0f58-4358-44f0-b337-b0bbde7d80ca"
      },
      "execution_count": null,
      "outputs": [
        {
          "output_type": "stream",
          "name": "stdout",
          "text": [
            "Data outliers pada kolom floors floors ada pada baris ke:\n",
            "Int64Index([5659], dtype='int64')\n"
          ]
        },
        {
          "output_type": "display_data",
          "data": {
            "text/plain": [
              "<Figure size 640x480 with 1 Axes>"
            ],
            "image/png": "[encoded data removed]"
          },
          "metadata": {}
        }
      ]
    },
    {
      "cell_type": "code",
      "source": [
        "nilai_kolom = df.loc[5659, 'floors']\n",
        "print(nilai_kolom)"
      ],
      "metadata": {
        "colab": {
          "base_uri": "https://localhost:8080/"
        },
        "id": "mx71fM7l13W6",
        "outputId": "7e506e7f-518f-449c-cebb-d64c49e4cbe1"
      },
      "execution_count": null,
      "outputs": [
        {
          "output_type": "stream",
          "name": "stdout",
          "text": [
            "6000\n"
          ]
        }
      ]
    },
    {
      "cell_type": "markdown",
      "source": [
        "Dari hasil pengamatan data floors, penulis juga menghapus kolom yang berisi data outliers karena penulis mengasumsikan bahwa data ini merupakan kesalahan input. dimana data puluhan terdapat satu data yang ribuan. Untuk kasus ini penulis belum mendapatkan proses transformasi maupun pendekatan statistik untuk menangani data ini"
      ],
      "metadata": {
        "id": "Z3YwhX5jPm8D"
      }
    },
    {
      "cell_type": "code",
      "source": [
        "import seaborn as sns\n",
        "\n",
        "# Pilih kolom luas bangunan\n",
        "kolom = 'cityCode'\n",
        "\n",
        "# Buat boxplot\n",
        "sns.boxplot(x=df[kolom])\n",
        "\n",
        "# Hitung batas bawah dan atas data outliers\n",
        "q1 = df[kolom].quantile(0.25)\n",
        "q3 = df[kolom].quantile(0.75)\n",
        "iqr = q3 - q1\n",
        "batas_bawah = q1 - 1.5 * iqr\n",
        "batas_atas = q3 + 1.5 * iqr\n",
        "\n",
        "# Cari indeks baris yang mengandung data outliers\n",
        "outlier_idx = df[(df[kolom] < batas_bawah) | (df[kolom] > batas_atas)].index\n",
        "\n",
        "# Tampilkan indeks baris yang mengandung data outliers\n",
        "print(\"Data outliers pada kolom floors\", kolom, \"ada pada baris ke:\")\n",
        "print(outlier_idx)\n",
        "\n",
        "# Tampilkan grafik\n",
        "plt.show()"
      ],
      "metadata": {
        "colab": {
          "base_uri": "https://localhost:8080/",
          "height": 484
        },
        "id": "wkS3lcTT2ZKG",
        "outputId": "4549316e-df92-4c8c-ee72-56c70d134f58"
      },
      "execution_count": null,
      "outputs": [
        {
          "output_type": "stream",
          "name": "stdout",
          "text": [
            "Data outliers pada kolom floors cityCode ada pada baris ke:\n",
            "Int64Index([299, 1326, 2425, 10987, 20735, 22631], dtype='int64')\n"
          ]
        },
        {
          "output_type": "display_data",
          "data": {
            "text/plain": [
              "<Figure size 640x480 with 1 Axes>"
            ],
            "image/png": "[encoded data removed]"
          },
          "metadata": {}
        }
      ]
    },
    {
      "cell_type": "code",
      "source": [
        "from pandas.io.parsers.c_parser_wrapper import is_index_col\n",
        "# memilih kolom yang diinginkan\n",
        "columns = 'cityCode'\n",
        "\n",
        "# memilih index yang diinginkan\n",
        "index_col = [299, 1326, 2425, 10987, 20735, 22631]\n",
        "\n",
        "# mencetak nilai kolom pada index yang diinginkan\n",
        "print(df.loc[index_col, columns])"
      ],
      "metadata": {
        "colab": {
          "base_uri": "https://localhost:8080/"
        },
        "id": "pqCMN9ATLx-x",
        "outputId": "6135903c-06e1-4d21-a5f1-f9e782a1cf5b"
      },
      "execution_count": null,
      "outputs": [
        {
          "output_type": "stream",
          "name": "stdout",
          "text": [
            "299      201035\n",
            "1326     491100\n",
            "2425     465360\n",
            "10987    200812\n",
            "20735    200801\n",
            "22631    200801\n",
            "Name: cityCode, dtype: int64\n"
          ]
        }
      ]
    },
    {
      "cell_type": "code",
      "source": [
        "import seaborn as sns\n",
        "\n",
        "# Pilih kolom luas bangunan\n",
        "kolom = 'made'\n",
        "\n",
        "# Buat boxplot\n",
        "sns.boxplot(x=df[kolom])\n",
        "\n",
        "# Hitung batas bawah dan atas data outliers\n",
        "q1 = df[kolom].quantile(0.25)\n",
        "q3 = df[kolom].quantile(0.75)\n",
        "iqr = q3 - q1\n",
        "batas_bawah = q1 - 1.5 * iqr\n",
        "batas_atas = q3 + 1.5 * iqr\n",
        "\n",
        "# Cari indeks baris yang mengandung data outliers\n",
        "outlier_idx = df[(df[kolom] < batas_bawah) | (df[kolom] > batas_atas)].index\n",
        "\n",
        "# Tampilkan indeks baris yang mengandung data outliers\n",
        "print(\"Data outliers pada kolom made\", kolom, \"ada pada baris ke:\")\n",
        "print(outlier_idx)\n",
        "\n",
        "# Tampilkan grafik\n",
        "plt.show()"
      ],
      "metadata": {
        "colab": {
          "base_uri": "https://localhost:8080/",
          "height": 484
        },
        "id": "xOjoN70JNAYH",
        "outputId": "a386ca2a-d564-47ab-8a24-c71da901dbd3"
      },
      "execution_count": null,
      "outputs": [
        {
          "output_type": "stream",
          "name": "stdout",
          "text": [
            "Data outliers pada kolom made made ada pada baris ke:\n",
            "Int64Index([2113, 3608, 19124, 19748, 21400], dtype='int64')\n"
          ]
        },
        {
          "output_type": "display_data",
          "data": {
            "text/plain": [
              "<Figure size 640x480 with 1 Axes>"
            ],
            "image/png": "[encoded data removed]"
          },
          "metadata": {}
        }
      ]
    },
    {
      "cell_type": "code",
      "source": [
        "from pandas.io.parsers.c_parser_wrapper import is_index_col\n",
        "# memilih kolom yang diinginkan\n",
        "columns = 'made'\n",
        "\n",
        "# memilih index yang diinginkan\n",
        "index_col = [2113, 3608, 19124, 19748, 21400]\n",
        "\n",
        "# mencetak nilai kolom pada index yang diinginkan\n",
        "print(df.loc[index_col, columns])"
      ],
      "metadata": {
        "colab": {
          "base_uri": "https://localhost:8080/"
        },
        "id": "1ka2KSk1NVRE",
        "outputId": "7b6e290b-6a51-49f4-97ce-350c93754d3e"
      },
      "execution_count": null,
      "outputs": [
        {
          "output_type": "stream",
          "name": "stdout",
          "text": [
            "2113     10000\n",
            "3608     10000\n",
            "19124    10000\n",
            "19748    10000\n",
            "21400    10000\n",
            "Name: made, dtype: int64\n"
          ]
        }
      ]
    },
    {
      "cell_type": "code",
      "source": [
        "import seaborn as sns\n",
        "\n",
        "# Pilih kolom luas bangunan\n",
        "kolom = 'basement'\n",
        "\n",
        "# Buat boxplot\n",
        "sns.boxplot(x=df[kolom])\n",
        "\n",
        "# Hitung batas bawah dan atas data outliers\n",
        "q1 = df[kolom].quantile(0.25)\n",
        "q3 = df[kolom].quantile(0.75)\n",
        "iqr = q3 - q1\n",
        "batas_bawah = q1 - 1.5 * iqr\n",
        "batas_atas = q3 + 1.5 * iqr\n",
        "\n",
        "# Cari indeks baris yang mengandung data outliers\n",
        "outlier_idx = df[(df[kolom] < batas_bawah) | (df[kolom] > batas_atas)].index\n",
        "\n",
        "# Tampilkan indeks baris yang mengandung data outliers\n",
        "print(\"Data outliers pada kolom made\", kolom, \"ada pada baris ke:\")\n",
        "print(outlier_idx)\n",
        "\n",
        "# Tampilkan grafik\n",
        "plt.show()"
      ],
      "metadata": {
        "colab": {
          "base_uri": "https://localhost:8080/",
          "height": 484
        },
        "id": "cdTZFCKhNtPo",
        "outputId": "5f592a5a-e2ae-44a2-d3c6-6607d1cd10eb"
      },
      "execution_count": null,
      "outputs": [
        {
          "output_type": "stream",
          "name": "stdout",
          "text": [
            "Data outliers pada kolom made basement ada pada baris ke:\n",
            "Int64Index([2107, 3995, 15068, 18926], dtype='int64')\n"
          ]
        },
        {
          "output_type": "display_data",
          "data": {
            "text/plain": [
              "<Figure size 640x480 with 1 Axes>"
            ],
            "image/png": "[encoded data removed]"
          },
          "metadata": {}
        }
      ]
    },
    {
      "cell_type": "code",
      "source": [
        "from pandas.io.parsers.c_parser_wrapper import is_index_col\n",
        "# memilih kolom yang diinginkan\n",
        "columns = 'basement'\n",
        "\n",
        "# memilih index yang diinginkan\n",
        "index_col = [2107, 3995, 15068, 18926]\n",
        "\n",
        "# mencetak nilai kolom pada index yang diinginkan\n",
        "print(df.loc[index_col, columns])"
      ],
      "metadata": {
        "colab": {
          "base_uri": "https://localhost:8080/"
        },
        "id": "yfI4k4L9N6DN",
        "outputId": "dce2baf5-c20f-400b-b816-097128113db2"
      },
      "execution_count": null,
      "outputs": [
        {
          "output_type": "stream",
          "name": "stdout",
          "text": [
            "2107     84333\n",
            "3995     81851\n",
            "15068    91992\n",
            "18926    91978\n",
            "Name: basement, dtype: int64\n"
          ]
        }
      ]
    },
    {
      "cell_type": "code",
      "source": [
        "import seaborn as sns\n",
        "\n",
        "# Pilih kolom luas bangunan\n",
        "kolom = 'attic'\n",
        "\n",
        "# Buat boxplot\n",
        "sns.boxplot(x=df[kolom])\n",
        "\n",
        "# Hitung batas bawah dan atas data outliers\n",
        "q1 = df[kolom].quantile(0.25)\n",
        "q3 = df[kolom].quantile(0.75)\n",
        "iqr = q3 - q1\n",
        "batas_bawah = q1 - 1.5 * iqr\n",
        "batas_atas = q3 + 1.5 * iqr\n",
        "\n",
        "# Cari indeks baris yang mengandung data outliers\n",
        "outlier_idx = df[(df[kolom] < batas_bawah) | (df[kolom] > batas_atas)].index\n",
        "\n",
        "# Tampilkan indeks baris yang mengandung data outliers\n",
        "print(\"Data outliers pada kolom made\", kolom, \"ada pada baris ke:\")\n",
        "print(outlier_idx)\n",
        "\n",
        "# Tampilkan grafik\n",
        "plt.show()"
      ],
      "metadata": {
        "colab": {
          "base_uri": "https://localhost:8080/",
          "height": 484
        },
        "id": "bgwoTAcjVrbE",
        "outputId": "d10162d0-cee9-4d79-c4ce-9f812fb9d81c"
      },
      "execution_count": null,
      "outputs": [
        {
          "output_type": "stream",
          "name": "stdout",
          "text": [
            "Data outliers pada kolom made attic ada pada baris ke:\n",
            "Int64Index([3828, 4909, 12858, 13633, 13642, 17168, 19994], dtype='int64')\n"
          ]
        },
        {
          "output_type": "display_data",
          "data": {
            "text/plain": [
              "<Figure size 640x480 with 1 Axes>"
            ],
            "image/png": "[encoded data removed]"
          },
          "metadata": {}
        }
      ]
    },
    {
      "cell_type": "code",
      "source": [
        "from pandas.io.parsers.c_parser_wrapper import is_index_col\n",
        "# memilih kolom yang diinginkan\n",
        "columns = 'attic'\n",
        "\n",
        "# memilih index yang diinginkan\n",
        "index_col = [3828, 4909, 12858, 13633, 13642, 17168, 19994]\n",
        "\n",
        "# mencetak nilai kolom pada index yang diinginkan\n",
        "print(df.loc[index_col, columns])"
      ],
      "metadata": {
        "colab": {
          "base_uri": "https://localhost:8080/"
        },
        "id": "CijtZOWcVz4o",
        "outputId": "62786f3a-fb0e-4f0a-bbd9-3c58f42eb3b9"
      },
      "execution_count": null,
      "outputs": [
        {
          "output_type": "stream",
          "name": "stdout",
          "text": [
            "3828     71001\n",
            "4909     71001\n",
            "12858    71024\n",
            "13633    96381\n",
            "13642    30000\n",
            "17168    71965\n",
            "19994    30000\n",
            "Name: attic, dtype: int64\n"
          ]
        }
      ]
    },
    {
      "cell_type": "code",
      "source": [
        "import seaborn as sns\n",
        "\n",
        "# Pilih kolom luas bangunan\n",
        "kolom = 'garage'\n",
        "\n",
        "# Buat boxplot\n",
        "sns.boxplot(x=df[kolom])\n",
        "\n",
        "# Hitung batas bawah dan atas data outliers\n",
        "q1 = df[kolom].quantile(0.25)\n",
        "q3 = df[kolom].quantile(0.75)\n",
        "iqr = q3 - q1\n",
        "batas_bawah = q1 - 1.5 * iqr\n",
        "batas_atas = q3 + 1.5 * iqr\n",
        "\n",
        "# Cari indeks baris yang mengandung data outliers\n",
        "outlier_idx = df[(df[kolom] < batas_bawah) | (df[kolom] > batas_atas)].index\n",
        "\n",
        "# Tampilkan indeks baris yang mengandung data outliers\n",
        "print(\"Data outliers pada kolom made\", kolom, \"ada pada baris ke:\")\n",
        "print(outlier_idx)\n",
        "\n",
        "# Tampilkan grafik\n",
        "plt.show()"
      ],
      "metadata": {
        "colab": {
          "base_uri": "https://localhost:8080/",
          "height": 484
        },
        "id": "YWpn8YEpV4-x",
        "outputId": "65413726-7b9e-452c-cf32-7b53d290b09e"
      },
      "execution_count": null,
      "outputs": [
        {
          "output_type": "stream",
          "name": "stdout",
          "text": [
            "Data outliers pada kolom made garage ada pada baris ke:\n",
            "Int64Index([14878, 17629], dtype='int64')\n"
          ]
        },
        {
          "output_type": "display_data",
          "data": {
            "text/plain": [
              "<Figure size 640x480 with 1 Axes>"
            ],
            "image/png": "[encoded data removed]"
          },
          "metadata": {}
        }
      ]
    },
    {
      "cell_type": "code",
      "source": [
        "from pandas.io.parsers.c_parser_wrapper import is_index_col\n",
        "# memilih kolom yang diinginkan\n",
        "columns = 'garage'\n",
        "\n",
        "# memilih index yang diinginkan\n",
        "index_col = [14878, 17629]\n",
        "\n",
        "# mencetak nilai kolom pada index yang diinginkan\n",
        "print(df.loc[index_col, columns])"
      ],
      "metadata": {
        "colab": {
          "base_uri": "https://localhost:8080/"
        },
        "id": "WVZsp8R6WAt1",
        "outputId": "c948d9a2-9f92-4c14-dce2-f05aca35eef0"
      },
      "execution_count": null,
      "outputs": [
        {
          "output_type": "stream",
          "name": "stdout",
          "text": [
            "14878    2048\n",
            "17629    9017\n",
            "Name: garage, dtype: int64\n"
          ]
        }
      ]
    },
    {
      "cell_type": "markdown",
      "source": [
        "**Data Cleaning**"
      ],
      "metadata": {
        "id": "-dBvRgMpWyVf"
      }
    },
    {
      "cell_type": "code",
      "source": [
        "df_clean = raw_data.drop(['id'], axis=1)"
      ],
      "metadata": {
        "id": "UPhXLARWWgo7"
      },
      "execution_count": null,
      "outputs": []
    },
    {
      "cell_type": "code",
      "source": [
        "# memilih index yang akan dihapus\n",
        "index_delete = [15334,5659,299, 1326, 2425, 10987, 20735, 22631,2113, 3608,\n",
        "                19124, 19748, 21400,2107, 3995, 15068, 18926,3828, 4909, 12858,\n",
        "                13633, 13642, 17168, 19994,14878, 17629]\n",
        "\n",
        "# menghapus baris pada index yang diinginkan\n",
        "df_clean = df_clean.drop(index_delete)"
      ],
      "metadata": {
        "id": "V2P42WsdXLkc"
      },
      "execution_count": null,
      "outputs": []
    },
    {
      "cell_type": "code",
      "source": [
        "df_clean.head()"
      ],
      "metadata": {
        "colab": {
          "base_uri": "https://localhost:8080/",
          "height": 270
        },
        "id": "JsaODYO-Ytaj",
        "outputId": "97630e15-6c6b-418f-e10e-12da91fd0504"
      },
      "execution_count": null,
      "outputs": [
        {
          "output_type": "execute_result",
          "data": {
            "text/plain": [
              "   squareMeters  numberOfRooms  hasYard  hasPool  floors  cityCode  \\\n",
              "0         34291             24        1        0      47     35693   \n",
              "1         95145             60        0        1      60     34773   \n",
              "2         92661             45        1        1      62     45457   \n",
              "3         97184             99        0        0      59     15113   \n",
              "4         61752            100        0        0      57     64245   \n",
              "\n",
              "   cityPartRange  numPrevOwners  made  isNewBuilt  hasStormProtector  \\\n",
              "0              2              1  2000           0                  1   \n",
              "1              1              4  2000           0                  1   \n",
              "2              4              8  2020           1                  1   \n",
              "3              1              1  2000           0                  1   \n",
              "4              8              4  2018           1                  0   \n",
              "\n",
              "   basement  attic  garage  hasStorageRoom  hasGuestRoom      price  \n",
              "0         8   5196     369               0             3  3436795.2  \n",
              "1       729   4496     277               0             6  9519958.0  \n",
              "2      7473   8953     245               1             9  9276448.1  \n",
              "3      6424   8522     256               1             9  9725732.2  \n",
              "4      7151   2786     863               0             7  6181908.8  "
            ],
            "text/html": [
              "\n",
              "  <div id=\"df-240c9a16-29ff-4572-b3cf-27b169fb5fed\">\n",
              "    <div class=\"colab-df-container\">\n",
              "      <div>\n",
              "<style scoped>\n",
              "    .dataframe tbody tr th:only-of-type {\n",
              "        vertical-align: middle;\n",
              "    }\n",
              "\n",
              "    .dataframe tbody tr th {\n",
              "        vertical-align: top;\n",
              "    }\n",
              "\n",
              "    .dataframe thead th {\n",
              "        text-align: right;\n",
              "    }\n",
              "</style>\n",
              "<table border=\"1\" class=\"dataframe\">\n",
              "  <thead>\n",
              "    <tr style=\"text-align: right;\">\n",
              "      <th></th>\n",
              "      <th>squareMeters</th>\n",
              "      <th>numberOfRooms</th>\n",
              "      <th>hasYard</th>\n",
              "      <th>hasPool</th>\n",
              "      <th>floors</th>\n",
              "      <th>cityCode</th>\n",
              "      <th>cityPartRange</th>\n",
              "      <th>numPrevOwners</th>\n",
              "      <th>made</th>\n",
              "      <th>isNewBuilt</th>\n",
              "      <th>hasStormProtector</th>\n",
              "      <th>basement</th>\n",
              "      <th>attic</th>\n",
              "      <th>garage</th>\n",
              "      <th>hasStorageRoom</th>\n",
              "      <th>hasGuestRoom</th>\n",
              "      <th>price</th>\n",
              "    </tr>\n",
              "  </thead>\n",
              "  <tbody>\n",
              "    <tr>\n",
              "      <th>0</th>\n",
              "      <td>34291</td>\n",
              "      <td>24</td>\n",
              "      <td>1</td>\n",
              "      <td>0</td>\n",
              "      <td>47</td>\n",
              "      <td>35693</td>\n",
              "      <td>2</td>\n",
              "      <td>1</td>\n",
              "      <td>2000</td>\n",
              "      <td>0</td>\n",
              "      <td>1</td>\n",
              "      <td>8</td>\n",
              "      <td>5196</td>\n",
              "      <td>369</td>\n",
              "      <td>0</td>\n",
              "      <td>3</td>\n",
              "      <td>3436795.2</td>\n",
              "    </tr>\n",
              "    <tr>\n",
              "      <th>1</th>\n",
              "      <td>95145</td>\n",
              "      <td>60</td>\n",
              "      <td>0</td>\n",
              "      <td>1</td>\n",
              "      <td>60</td>\n",
              "      <td>34773</td>\n",
              "      <td>1</td>\n",
              "      <td>4</td>\n",
              "      <td>2000</td>\n",
              "      <td>0</td>\n",
              "      <td>1</td>\n",
              "      <td>729</td>\n",
              "      <td>4496</td>\n",
              "      <td>277</td>\n",
              "      <td>0</td>\n",
              "      <td>6</td>\n",
              "      <td>9519958.0</td>\n",
              "    </tr>\n",
              "    <tr>\n",
              "      <th>2</th>\n",
              "      <td>92661</td>\n",
              "      <td>45</td>\n",
              "      <td>1</td>\n",
              "      <td>1</td>\n",
              "      <td>62</td>\n",
              "      <td>45457</td>\n",
              "      <td>4</td>\n",
              "      <td>8</td>\n",
              "      <td>2020</td>\n",
              "      <td>1</td>\n",
              "      <td>1</td>\n",
              "      <td>7473</td>\n",
              "      <td>8953</td>\n",
              "      <td>245</td>\n",
              "      <td>1</td>\n",
              "      <td>9</td>\n",
              "      <td>9276448.1</td>\n",
              "    </tr>\n",
              "    <tr>\n",
              "      <th>3</th>\n",
              "      <td>97184</td>\n",
              "      <td>99</td>\n",
              "      <td>0</td>\n",
              "      <td>0</td>\n",
              "      <td>59</td>\n",
              "      <td>15113</td>\n",
              "      <td>1</td>\n",
              "      <td>1</td>\n",
              "      <td>2000</td>\n",
              "      <td>0</td>\n",
              "      <td>1</td>\n",
              "      <td>6424</td>\n",
              "      <td>8522</td>\n",
              "      <td>256</td>\n",
              "      <td>1</td>\n",
              "      <td>9</td>\n",
              "      <td>9725732.2</td>\n",
              "    </tr>\n",
              "    <tr>\n",
              "      <th>4</th>\n",
              "      <td>61752</td>\n",
              "      <td>100</td>\n",
              "      <td>0</td>\n",
              "      <td>0</td>\n",
              "      <td>57</td>\n",
              "      <td>64245</td>\n",
              "      <td>8</td>\n",
              "      <td>4</td>\n",
              "      <td>2018</td>\n",
              "      <td>1</td>\n",
              "      <td>0</td>\n",
              "      <td>7151</td>\n",
              "      <td>2786</td>\n",
              "      <td>863</td>\n",
              "      <td>0</td>\n",
              "      <td>7</td>\n",
              "      <td>6181908.8</td>\n",
              "    </tr>\n",
              "  </tbody>\n",
              "</table>\n",
              "</div>\n",
              "      <button class=\"colab-df-convert\" onclick=\"convertToInteractive('df-240c9a16-29ff-4572-b3cf-27b169fb5fed')\"\n",
              "              title=\"Convert this dataframe to an interactive table.\"\n",
              "              style=\"display:none;\">\n",
              "        \n",
              "  <svg xmlns=\"http://www.w3.org/2000/svg\" height=\"24px\"viewBox=\"0 0 24 24\"\n",
              "       width=\"24px\">\n",
              "    <path d=\"M0 0h24v24H0V0z\" fill=\"none\"/>\n",
              "    <path d=\"M18.56 5.44l.94 2.06.94-2.06 2.06-.94-2.06-.94-.94-2.06-.94 2.06-2.06.94zm-11 1L8.5 8.5l.94-2.06 2.06-.94-2.06-.94L8.5 2.5l-.94 2.06-2.06.94zm10 10l.94 2.06.94-2.06 2.06-.94-2.06-.94-.94-2.06-.94 2.06-2.06.94z\"/><path d=\"M17.41 7.96l-1.37-1.37c-.4-.4-.92-.59-1.43-.59-.52 0-1.04.2-1.43.59L10.3 9.45l-7.72 7.72c-.78.78-.78 2.05 0 2.83L4 21.41c.39.39.9.59 1.41.59.51 0 1.02-.2 1.41-.59l7.78-7.78 2.81-2.81c.8-.78.8-2.07 0-2.86zM5.41 20L4 18.59l7.72-7.72 1.47 1.35L5.41 20z\"/>\n",
              "  </svg>\n",
              "      </button>\n",
              "      \n",
              "  <style>\n",
              "    .colab-df-container {\n",
              "      display:flex;\n",
              "      flex-wrap:wrap;\n",
              "      gap: 12px;\n",
              "    }\n",
              "\n",
              "    .colab-df-convert {\n",
              "      background-color: #E8F0FE;\n",
              "      border: none;\n",
              "      border-radius: 50%;\n",
              "      cursor: pointer;\n",
              "      display: none;\n",
              "      fill: #1967D2;\n",
              "      height: 32px;\n",
              "      padding: 0 0 0 0;\n",
              "      width: 32px;\n",
              "    }\n",
              "\n",
              "    .colab-df-convert:hover {\n",
              "      background-color: #E2EBFA;\n",
              "      box-shadow: 0px 1px 2px rgba(60, 64, 67, 0.3), 0px 1px 3px 1px rgba(60, 64, 67, 0.15);\n",
              "      fill: #174EA6;\n",
              "    }\n",
              "\n",
              "    [theme=dark] .colab-df-convert {\n",
              "      background-color: #3B4455;\n",
              "      fill: #D2E3FC;\n",
              "    }\n",
              "\n",
              "    [theme=dark] .colab-df-convert:hover {\n",
              "      background-color: #434B5C;\n",
              "      box-shadow: 0px 1px 3px 1px rgba(0, 0, 0, 0.15);\n",
              "      filter: drop-shadow(0px 1px 2px rgba(0, 0, 0, 0.3));\n",
              "      fill: #FFFFFF;\n",
              "    }\n",
              "  </style>\n",
              "\n",
              "      <script>\n",
              "        const buttonEl =\n",
              "          document.querySelector('#df-240c9a16-29ff-4572-b3cf-27b169fb5fed button.colab-df-convert');\n",
              "        buttonEl.style.display =\n",
              "          google.colab.kernel.accessAllowed ? 'block' : 'none';\n",
              "\n",
              "        async function convertToInteractive(key) {\n",
              "          const element = document.querySelector('#df-240c9a16-29ff-4572-b3cf-27b169fb5fed');\n",
              "          const dataTable =\n",
              "            await google.colab.kernel.invokeFunction('convertToInteractive',\n",
              "                                                     [key], {});\n",
              "          if (!dataTable) return;\n",
              "\n",
              "          const docLinkHtml = 'Like what you see? Visit the ' +\n",
              "            '<a target=\"_blank\" href=https://colab.research.google.com/notebooks/data_table.ipynb>data table notebook</a>'\n",
              "            + ' to learn more about interactive tables.';\n",
              "          element.innerHTML = '';\n",
              "          dataTable['output_type'] = 'display_data';\n",
              "          await google.colab.output.renderOutput(dataTable, element);\n",
              "          const docLink = document.createElement('div');\n",
              "          docLink.innerHTML = docLinkHtml;\n",
              "          element.appendChild(docLink);\n",
              "        }\n",
              "      </script>\n",
              "    </div>\n",
              "  </div>\n",
              "  "
            ]
          },
          "metadata": {},
          "execution_count": 26
        }
      ]
    },
    {
      "cell_type": "code",
      "source": [
        "df_clean.shape"
      ],
      "metadata": {
        "colab": {
          "base_uri": "https://localhost:8080/"
        },
        "id": "PMen8IGHYxLD",
        "outputId": "9c9f8af3-ad53-4b98-a5bd-4074470919ef"
      },
      "execution_count": null,
      "outputs": [
        {
          "output_type": "execute_result",
          "data": {
            "text/plain": [
              "(22704, 17)"
            ]
          },
          "metadata": {},
          "execution_count": 27
        }
      ]
    },
    {
      "cell_type": "code",
      "source": [
        "fig, ax = plt.subplots(figsize=(25,6))\n",
        "df_clean.boxplot(ax=ax)\n",
        "plt.show()"
      ],
      "metadata": {
        "colab": {
          "base_uri": "https://localhost:8080/",
          "height": 356
        },
        "id": "wUnYwxNSY1_e",
        "outputId": "076d505c-3240-499d-8e5e-5cdbe0d0835d"
      },
      "execution_count": null,
      "outputs": [
        {
          "output_type": "display_data",
          "data": {
            "text/plain": [
              "<Figure size 2500x600 with 1 Axes>"
            ],
            "image/png": "[encoded data removed]"
          },
          "metadata": {}
        }
      ]
    },
    {
      "cell_type": "markdown",
      "source": [
        "**Pembuatan Model Prediksi**"
      ],
      "metadata": {
        "id": "DDhRgo_VZTRb"
      }
    },
    {
      "cell_type": "code",
      "source": [
        "import pandas as pd\n",
        "import numpy as np\n",
        "from sklearn.model_selection import train_test_split\n",
        "from sklearn.linear_model import Lasso\n",
        "from sklearn.metrics import mean_squared_error\n",
        "\n",
        "# Load data\n",
        "df = df_clean\n",
        "\n",
        "# Split data into training and testing sets\n",
        "X_train, X_test, y_train, y_test = train_test_split(df.iloc[:, :-1], df.iloc[:, -1], test_size=0.2, random_state=42)\n",
        "\n",
        "# Fit Lasso regression model\n",
        "alphas = np.logspace(-4, 0, 100)\n",
        "mse = []\n",
        "for alpha in alphas:\n",
        "    lasso = Lasso(alpha=alpha)\n",
        "    lasso.fit(X_train, y_train)\n",
        "    mse.append(mean_squared_error(y_test, lasso.predict(X_test)))\n",
        "\n",
        "best_alpha = alphas[np.argmin(mse)]\n",
        "lasso = Lasso(alpha=best_alpha)\n",
        "lasso.fit(X_train, y_train)\n",
        "\n",
        "# Evaluate model\n",
        "y_pred = lasso.predict(X_test)\n",
        "rmse = np.sqrt(mean_squared_error(y_test, y_pred))\n",
        "print(f\"RMSE: {rmse:.2f}\")\n",
        "\n",
        "# Create table of predicted vs actual values\n",
        "results_df = pd.DataFrame({'Actual': y_test, 'Predicted': y_pred})\n",
        "results_df.index.name = 'Observation'\n",
        "print(results_df.head(10))\n"
      ],
      "metadata": {
        "colab": {
          "base_uri": "https://localhost:8080/"
        },
        "id": "mPZG3xSBHzm_",
        "outputId": "fd2d5699-441b-45e1-e34e-c076ae3b675e"
      },
      "execution_count": null,
      "outputs": [
        {
          "output_type": "stream",
          "name": "stdout",
          "text": [
            "RMSE: 95751.11\n",
            "                Actual     Predicted\n",
            "Observation                         \n",
            "15454        7382091.9  7.366020e+06\n",
            "8188         6243323.3  6.228006e+06\n",
            "21646        1563887.5  1.576674e+06\n",
            "7745         7091010.3  7.073206e+06\n",
            "18855        5183003.6  5.176186e+06\n",
            "18695        3898194.1  3.887345e+06\n",
            "13022        4954300.1  4.941842e+06\n",
            "6966         7351183.7  7.335611e+06\n",
            "14179        5659030.2  5.663814e+06\n",
            "21435        2786587.7  2.794054e+06\n"
          ]
        }
      ]
    },
    {
      "cell_type": "code",
      "source": [
        "# import pandas as pd\n",
        "# import numpy as np\n",
        "# from sklearn.model_selection import train_test_split\n",
        "# from sklearn.linear_model import Lasso\n",
        "# from sklearn.metrics import mean_squared_error\n",
        "# from sklearn.preprocessing import StandardScaler\n",
        "\n",
        "# # Load data\n",
        "# df = df_clean\n",
        "\n",
        "# # Split data into training and testing sets\n",
        "# X_train, X_test, y_train, y_test = train_test_split(df.iloc[:, :-1], df.iloc[:, -1], test_size=0.2, random_state=42)\n",
        "\n",
        "# # Standardize data\n",
        "# scaler = StandardScaler()\n",
        "# X_train = scaler.fit_transform(X_train)\n",
        "# X_test = scaler.transform(X_test)\n",
        "\n",
        "# # Fit Lasso regression model\n",
        "# alphas = np.logspace(-4, 0, 100)\n",
        "# mse = []\n",
        "# for alpha in alphas:\n",
        "#     lasso = Lasso(alpha=alpha)\n",
        "#     lasso.fit(X_train, y_train)\n",
        "#     mse.append(mean_squared_error(y_test, lasso.predict(X_test)))\n",
        "\n",
        "# best_alpha = alphas[np.argmin(mse)]\n",
        "# lasso = Lasso(alpha=best_alpha)\n",
        "# lasso.fit(X_train, y_train)\n",
        "\n",
        "# # Evaluate model\n",
        "# y_pred = lasso.predict(X_test)\n",
        "# rmse = np.sqrt(mean_squared_error(y_test, y_pred))\n",
        "# rmse /= 10000\n",
        "# print(f\"RMSE: {rmse:.2f}\")\n",
        "\n",
        "# # Create table of predicted vs actual values\n",
        "# results_df = pd.DataFrame({'Actual': y_test, 'Predicted': y_pred})\n",
        "# results_df = results_df.apply(lambda x: x/10000) # convert to thousands\n",
        "# results_df.index.name = 'Observation'\n",
        "# print(results_df.head(10))\n"
      ],
      "metadata": {
        "id": "9-019GaKEjau",
        "colab": {
          "base_uri": "https://localhost:8080/"
        },
        "outputId": "f39fe3b9-b3b8-4831-f568-0915ae75d453"
      },
      "execution_count": null,
      "outputs": [
        {
          "output_type": "stream",
          "name": "stdout",
          "text": [
            "RMSE: 9.58\n",
            "                Actual   Predicted\n",
            "Observation                       \n",
            "15454        738.20919  736.601744\n",
            "8188         624.33233  622.800467\n",
            "21646        156.38875  157.667113\n",
            "7745         709.10103  707.320631\n",
            "18855        518.30036  517.618942\n",
            "18695        389.81941  388.734079\n",
            "13022        495.43001  494.184143\n",
            "6966         735.11837  733.561385\n",
            "14179        565.90302  566.381282\n",
            "21435        278.65877  279.405455\n"
          ]
        }
      ]
    },
    {
      "cell_type": "code",
      "source": [
        "import matplotlib.pyplot as plt\n",
        "\n",
        "plt.scatter(y_test, y_pred)\n",
        "plt.plot(y_test, y_test, color='red')\n",
        "plt.xlabel('Actual')\n",
        "plt.ylabel('Predicted')\n",
        "plt.title('Actual vs Predicted')\n",
        "plt.show()\n"
      ],
      "metadata": {
        "colab": {
          "base_uri": "https://localhost:8080/",
          "height": 472
        },
        "id": "E7ccB_JdFDCh",
        "outputId": "8258bdb1-f0b0-4e6a-e7ba-9c8329a546bc"
      },
      "execution_count": null,
      "outputs": [
        {
          "output_type": "display_data",
          "data": {
            "text/plain": [
              "<Figure size 640x480 with 1 Axes>"
            ],
            "image/png": "[encoded data removed]"
          },
          "metadata": {}
        }
      ]
    },
    {
      "cell_type": "code",
      "source": [
        "from sklearn.metrics import r2_score\n",
        "\n",
        "r2 = r2_score(y_test, y_pred)\n",
        "print(f\"R-squared: {r2:.2f}\")\n"
      ],
      "metadata": {
        "colab": {
          "base_uri": "https://localhost:8080/"
        },
        "id": "tVOTTijgFLRv",
        "outputId": "a5976377-c345-4f52-99aa-367daeaf4e28"
      },
      "execution_count": null,
      "outputs": [
        {
          "output_type": "stream",
          "name": "stdout",
          "text": [
            "R-squared: 1.00\n"
          ]
        }
      ]
    },
    {
      "cell_type": "code",
      "source": [
        "import joblib\n",
        "\n",
        "# Save model to file\n",
        "joblib.dump(lasso, 'lasso_model.pkl')\n",
        "\n",
        "# Load model from file\n",
        "loaded_model = joblib.load('lasso_model.pkl')\n"
      ],
      "metadata": {
        "id": "l7PSc4OrItvK"
      },
      "execution_count": null,
      "outputs": []
    }
  ]
}