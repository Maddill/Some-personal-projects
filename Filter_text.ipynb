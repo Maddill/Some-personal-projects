{
  "nbformat": 4,
  "nbformat_minor": 0,
  "metadata": {
    "colab": {
      "provenance": []
    },
    "kernelspec": {
      "name": "python3",
      "display_name": "Python 3"
    },
    "language_info": {
      "name": "python"
    }
  },
  "cells": [
    {
      "cell_type": "code",
      "execution_count": null,
      "metadata": {
        "id": "47FYo5DYfE5_"
      },
      "outputs": [],
      "source": [
        "import re\n"
      ]
    },
    {
      "cell_type": "code",
      "source": [
        "file_terlarang = 'full-list-of-bad-words_text-file_2022_05_05.txt'"
      ],
      "metadata": {
        "id": "0FPwiUyVhT9N"
      },
      "execution_count": null,
      "outputs": []
    },
    {
      "cell_type": "code",
      "source": [
        "with open (file_terlarang) as f :\n",
        "  kata_terlarang = f.read().split()\n",
        "  kata_terlarang = [word for word in kata_terlarang if not word.startswith('#') and not word[0].isupper()]\n",
        "  kata_terlarang = ''.join(kata_terlarang)"
      ],
      "metadata": {
        "id": "NEziOI7-i_iU"
      },
      "execution_count": null,
      "outputs": []
    },
    {
      "cell_type": "code",
      "source": [
        "kata_terlarang_list = []\n",
        "for word in kata_terlarang_list:\n",
        "  kata_terlarang_list.append(r'\\b' + word +r'\\b')\n",
        "ploa_kata_terlarang = re.compile('|'.join(kata_terlarang_list))"
      ],
      "metadata": {
        "id": "DqZ_6nQAmdNZ"
      },
      "execution_count": null,
      "outputs": []
    },
    {
      "cell_type": "code",
      "source": [
        "user_input = input()"
      ],
      "metadata": {
        "colab": {
          "base_uri": "https://localhost:8080/"
        },
        "id": "nlQuK-dXjvHS",
        "outputId": "8e2ca490-339d-44bb-8a84-8f8127300d16"
      },
      "execution_count": null,
      "outputs": [
        {
          "name": "stdout",
          "output_type": "stream",
          "text": [
            "tess a55hole\n"
          ]
        }
      ]
    },
    {
      "cell_type": "code",
      "source": [
        "if ploa_kata_terlarang.search(user_input) :\n",
        "    print('Sorry, the word is not allowed.')\n",
        "else :\n",
        "    print('The text is allowed')"
      ],
      "metadata": {
        "colab": {
          "base_uri": "https://localhost:8080/"
        },
        "id": "CQX-NuKhqFLs",
        "outputId": "65cd667a-41b3-4f72-b843-95e308769ac5"
      },
      "execution_count": null,
      "outputs": [
        {
          "output_type": "stream",
          "name": "stdout",
          "text": [
            "Sorry, the word is not allowed.\n"
          ]
        }
      ]
    },
    {
      "cell_type": "code",
      "source": [
        "#Ini merupakan section baru yang berisi simpulan dari kode diatas\n",
        "import re\n",
        "\n",
        "class TextFilter:\n",
        "    def __init__(self, file_terlarang):\n",
        "        with open(file_terlarang) as f :\n",
        "            kata_terlarang = f.read().split()\n",
        "            kata_terlarang = [word for word in kata_terlarang if not word.startswith('#') and not word[0].isupper()]\n",
        "            self.kata_terlarang = '|'.join([r\"\\b\" + re.escape(word) + r\"\\b\" for word in kata_terlarang])\n",
        "\n",
        "        self.pattern = re.compile(self.kata_terlarang)\n",
        "\n",
        "    def filter_text(self, text):\n",
        "        if self.pattern.search(text):\n",
        "            return \"Sorry, the word is not allowed.\"\n",
        "        else:\n",
        "            return \"The text is allowed.\"\n",
        "\n",
        "\n",
        "# membuat instance dari class TextFilter\n",
        "tf = TextFilter('full-list-of-bad-words_text-file_2022_05_05.txt')\n",
        "\n",
        "# memasukkan inputan data yang akan di filtering\n",
        "user_input = input(\"Enter some text: \")\n",
        "\n",
        "# melakukan filtering menggunakan fungsi filter_text dari instance tf\n",
        "result = tf.filter_text(user_input)\n",
        "\n",
        "# print hasil filtering\n",
        "print(result)\n"
      ],
      "metadata": {
        "colab": {
          "base_uri": "https://localhost:8080/"
        },
        "id": "N_Y76rT6R6Ad",
        "outputId": "5485e72a-59f9-4dd5-bec6-5201ee6b752b"
      },
      "execution_count": null,
      "outputs": [
        {
          "output_type": "stream",
          "name": "stdout",
          "text": [
            "Enter some text: enter test\n",
            "The text is allowed.\n"
          ]
        }
      ]
    },
    {
      "cell_type": "code",
      "source": [],
      "metadata": {
        "id": "DdYleAUtlomn"
      },
      "execution_count": null,
      "outputs": []
    }
  ]
}